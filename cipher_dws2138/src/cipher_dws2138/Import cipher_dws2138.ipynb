{
 "cells": [
  {
   "cell_type": "code",
   "execution_count": 1,
   "id": "9b671c69",
   "metadata": {},
   "outputs": [],
   "source": [
    "import cipher_dws2138"
   ]
  },
  {
   "cell_type": "code",
   "execution_count": null,
   "id": "85fc3517",
   "metadata": {},
   "outputs": [
    {
     "name": "stdout",
     "output_type": "stream",
     "text": [
      "\n",
      "Welcome to Python 3.9's help utility!\n",
      "\n",
      "If this is your first time using Python, you should definitely check out\n",
      "the tutorial on the Internet at https://docs.python.org/3.9/tutorial/.\n",
      "\n",
      "Enter the name of any module, keyword, or topic to get help on writing\n",
      "Python programs and using Python modules.  To quit this help utility and\n",
      "return to the interpreter, just type \"quit\".\n",
      "\n",
      "To get a list of available modules, keywords, symbols, or topics, type\n",
      "\"modules\", \"keywords\", \"symbols\", or \"topics\".  Each module also comes\n",
      "with a one-line summary of what it does; to list the modules whose name\n",
      "or summary contain a given string such as \"spam\", type \"modules spam\".\n",
      "\n",
      "help> cipher_dws2138\n",
      "Help on module cipher_dws2138:\n",
      "\n",
      "NAME\n",
      "    cipher_dws2138\n",
      "\n",
      "FUNCTIONS\n",
      "    cipher(text, shift, encrypt=True)\n",
      "        Cesar shift cipher.  Tool to decrypt/encrypt text that uses the substitution of a letter by another one further in the alphabet.\n",
      "        \n",
      "        Parameters\n",
      "        ----------\n",
      "        text : str plain text: The message to encrypt.\n",
      "        shift : integer input: The number of letters the cipher will shift the text. Can be a positive for negative integer. \n",
      "        encrypt : boolean True, False: If True, the message is encrypted.  If False, the message is decrypted.\n",
      "        \n",
      "        Returns\n",
      "        -------\n",
      "        New str plain text message that is encrypted, or decrypted, by a shift in letters down or up the cipher alphabet. \n",
      "        \n",
      "        Examples\n",
      "        --------\n",
      "        >>> Cipher (text, shift, encrypt=True)\n",
      "            >>> text = str(‘Two Bites of the Apple’)\n",
      "            >>> shift = int(3)\n",
      "            >>> encrypt = True\n",
      "        [‘Wzr Elwhv ri wkh Dssoh’]\n",
      "        \n",
      "        >>> Cipher (text, shift, encrypt=False)\n",
      "            >>> text = str(‘Wzr Elwhv ri wkh Dssoh’)\n",
      "            >>> shift = int(3)\n",
      "            >>> encrypt = False\n",
      "        [‘Two Bites of the Apple’]\n",
      "\n",
      "FILE\n",
      "    /Users/David/Desktop/mds/Sweeterman_David/cipher_Sweeterman_David/cipher_dws2138/src/cipher_dws2138/cipher_dws2138.py\n",
      "\n",
      "\n"
     ]
    }
   ],
   "source": [
    "help()"
   ]
  },
  {
   "cell_type": "code",
   "execution_count": null,
   "id": "2a5fde6b",
   "metadata": {},
   "outputs": [],
   "source": [
    "help(cipher_dws2138)"
   ]
  },
  {
   "cell_type": "code",
   "execution_count": null,
   "id": "51079dc0",
   "metadata": {},
   "outputs": [],
   "source": []
  }
 ],
 "metadata": {
  "kernelspec": {
   "display_name": "Python 3 (ipykernel)",
   "language": "python",
   "name": "python3"
  },
  "language_info": {
   "codemirror_mode": {
    "name": "ipython",
    "version": 3
   },
   "file_extension": ".py",
   "mimetype": "text/x-python",
   "name": "python",
   "nbconvert_exporter": "python",
   "pygments_lexer": "ipython3",
   "version": "3.9.0"
  }
 },
 "nbformat": 4,
 "nbformat_minor": 5
}
